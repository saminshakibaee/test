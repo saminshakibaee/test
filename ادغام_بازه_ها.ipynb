{
  "nbformat": 4,
  "nbformat_minor": 0,
  "metadata": {
    "colab": {
      "provenance": []
    },
    "kernelspec": {
      "name": "python3",
      "display_name": "Python 3"
    },
    "language_info": {
      "name": "python"
    }
  },
  "cells": [
    {
      "cell_type": "code",
      "execution_count": 5,
      "metadata": {
        "colab": {
          "base_uri": "https://localhost:8080/"
        },
        "id": "tX2jUPBSovn_",
        "outputId": "17056c44-de38-4027-a95e-0413ce3f10ab"
      },
      "outputs": [
        {
          "output_type": "stream",
          "name": "stdout",
          "text": [
            "[(1, 6), (8, 10)]\n"
          ]
        }
      ],
      "source": [
        "def mergeIntervals(intervals):\n",
        "    if not intervals:\n",
        "        return []\n",
        "\n",
        "    intervals.sort(key=lambda x: x[0])\n",
        "    merged = [intervals[0]]\n",
        "\n",
        "    for current in intervals[1:]:\n",
        "        last_merged = merged[-1]\n",
        "\n",
        "        if current[0] <= last_merged[1]:\n",
        "            merged[-1] = (last_merged[0], max(last_merged[1], current[1]))\n",
        "        else:\n",
        "            merged.append(current)\n",
        "\n",
        "    return merged\n",
        "\n",
        "# مثال از استفاده:\n",
        "intervals = [(1, 3), (2, 6), (8, 10)]\n",
        "print(mergeIntervals(intervals))  # خروجی: [(1, 6), (8, 10)]\n"
      ]
    },
    {
      "cell_type": "code",
      "source": [],
      "metadata": {
        "id": "l1LeoGJAp5ZL"
      },
      "execution_count": null,
      "outputs": []
    }
  ]
}