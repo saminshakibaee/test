{
  "nbformat": 4,
  "nbformat_minor": 0,
  "metadata": {
    "colab": {
      "provenance": []
    },
    "kernelspec": {
      "name": "python3",
      "display_name": "Python 3"
    },
    "language_info": {
      "name": "python"
    }
  },
  "cells": [
    {
      "cell_type": "code",
      "execution_count": 4,
      "metadata": {
        "colab": {
          "base_uri": "https://localhost:8080/"
        },
        "id": "tX2jUPBSovn_",
        "outputId": "d771f74b-85b0-4aa9-e311-ca4e064ad9ab"
      },
      "outputs": [
        {
          "output_type": "stream",
          "name": "stdout",
          "text": [
            "4\n"
          ]
        }
      ],
      "source": [
        "def longestConsecutive(nums):\n",
        "    num_set = set(nums)\n",
        "    longest_streak = 0\n",
        "\n",
        "    for num in num_set:\n",
        "        if num - 1 not in num_set:\n",
        "            current_num = num\n",
        "            current_streak = 1\n",
        "\n",
        "            while current_num + 1 in num_set:\n",
        "                current_num += 1\n",
        "                current_streak += 1\n",
        "\n",
        "            longest_streak = max(longest_streak, current_streak)\n",
        "\n",
        "    return longest_streak\n",
        "\n",
        "# مثال از استفاده:\n",
        "nums = [100, 4, 200, 1, 3, 2]\n",
        "print(longestConsecutive(nums))\n"
      ]
    },
    {
      "cell_type": "code",
      "source": [],
      "metadata": {
        "id": "l1LeoGJAp5ZL"
      },
      "execution_count": null,
      "outputs": []
    }
  ]
}