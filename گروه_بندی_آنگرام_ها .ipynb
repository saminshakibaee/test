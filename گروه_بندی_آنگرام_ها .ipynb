{
  "nbformat": 4,
  "nbformat_minor": 0,
  "metadata": {
    "colab": {
      "provenance": []
    },
    "kernelspec": {
      "name": "python3",
      "display_name": "Python 3"
    },
    "language_info": {
      "name": "python"
    }
  },
  "cells": [
    {
      "cell_type": "code",
      "execution_count": 3,
      "metadata": {
        "colab": {
          "base_uri": "https://localhost:8080/"
        },
        "id": "tX2jUPBSovn_",
        "outputId": "0089e559-ae30-43f9-852f-d907b236f275"
      },
      "outputs": [
        {
          "output_type": "stream",
          "name": "stdout",
          "text": [
            "[['eat', 'tea', 'ate'], ['tan', 'nat'], ['bat']]\n"
          ]
        }
      ],
      "source": [
        "def groupAnagrams(strs):\n",
        "    anagrams = {}\n",
        "\n",
        "    for word in strs:\n",
        "        sorted_word = ''.join(sorted(word))\n",
        "\n",
        "        if sorted_word not in anagrams:\n",
        "            anagrams[sorted_word] = []\n",
        "        anagrams[sorted_word].append(word)\n",
        "\n",
        "    return list(anagrams.values())\n",
        "\n",
        "strs = [\"eat\", \"tea\", \"tan\", \"ate\", \"nat\", \"bat\"]\n",
        "print(groupAnagrams(strs))  # خروجی: [['eat', 'tea', 'ate'], ['tan', 'nat'], ['bat']]\n"
      ]
    },
    {
      "cell_type": "code",
      "source": [],
      "metadata": {
        "id": "l1LeoGJAp5ZL"
      },
      "execution_count": null,
      "outputs": []
    }
  ]
}